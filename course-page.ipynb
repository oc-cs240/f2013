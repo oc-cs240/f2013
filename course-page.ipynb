{
 "metadata": {
  "name": ""
 },
 "nbformat": 3,
 "nbformat_minor": 0,
 "worksheets": [
  {
   "cells": [
    {
     "cell_type": "markdown",
     "metadata": {},
     "source": [
      "CS 240: Computer Science II [Fall 2013]\n",
      "=======================================\n",
      "\n",
      "Lecture Notes\n",
      "-------------\n",
      "\n",
      "Assignments\n",
      "-----------\n",
      "\n",
      "* [Lab 01](assignments/lab01.html)\n",
      "* [Homework 01](assignments/hw01.html)\n",
      "* [Homework 02](assignments/hw02.html)\n",
      "* [Homework 03](assignments/hw03.html)\n"
     ]
    },
    {
     "cell_type": "code",
     "collapsed": false,
     "input": [],
     "language": "python",
     "metadata": {},
     "outputs": []
    }
   ],
   "metadata": {}
  }
 ]
}