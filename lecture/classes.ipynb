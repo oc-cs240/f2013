{
 "metadata": {
  "name": ""
 },
 "nbformat": 3,
 "nbformat_minor": 0,
 "worksheets": [
  {
   "cells": [
    {
     "cell_type": "markdown",
     "metadata": {},
     "source": [
      "Python Classes\n",
      "==============\n",
      "\n",
      "Classes are \"blueprints\" for creating python object(s).\n",
      "\n",
      "Keyword: class\n",
      "\n",
      "Syntax:\n",
      "\n",
      "```\n",
      "class <className>(<parent-object>):\n",
      "    # Class suite (minimum 1 line)\n",
      "    pass\n",
      "```"
     ]
    },
    {
     "cell_type": "code",
     "collapsed": false,
     "input": [
      "class foo(object):\n",
      "    pass\n",
      "\n",
      "f = foo()\n",
      "print(dir(f))\n",
      "print(type(f))"
     ],
     "language": "python",
     "metadata": {},
     "outputs": [
      {
       "output_type": "stream",
       "stream": "stdout",
       "text": [
        "['__class__', '__delattr__', '__dict__', '__dir__', '__doc__', '__eq__', '__format__', '__ge__', '__getattribute__', '__gt__', '__hash__', '__init__', '__le__', '__lt__', '__module__', '__ne__', '__new__', '__qualname__', '__reduce__', '__reduce_ex__', '__repr__', '__setattr__', '__sizeof__', '__str__', '__subclasshook__', '__weakref__']\n",
        "<class '__main__.foo'>\n"
       ]
      }
     ],
     "prompt_number": 14
    },
    {
     "cell_type": "code",
     "collapsed": false,
     "input": [
      "f.message = 'Hello, World!'"
     ],
     "language": "python",
     "metadata": {},
     "outputs": [],
     "prompt_number": 15
    },
    {
     "cell_type": "code",
     "collapsed": false,
     "input": [
      "print(dir(f))"
     ],
     "language": "python",
     "metadata": {},
     "outputs": [
      {
       "output_type": "stream",
       "stream": "stdout",
       "text": [
        "['__class__', '__delattr__', '__dict__', '__dir__', '__doc__', '__eq__', '__format__', '__ge__', '__getattribute__', '__gt__', '__hash__', '__init__', '__le__', '__lt__', '__module__', '__ne__', '__new__', '__qualname__', '__reduce__', '__reduce_ex__', '__repr__', '__setattr__', '__sizeof__', '__str__', '__subclasshook__', '__weakref__', 'message']\n"
       ]
      }
     ],
     "prompt_number": 16
    },
    {
     "cell_type": "code",
     "collapsed": false,
     "input": [
      "'  Hello  '.strip()"
     ],
     "language": "python",
     "metadata": {},
     "outputs": [
      {
       "metadata": {},
       "output_type": "pyout",
       "prompt_number": 17,
       "text": [
        "'Hello'"
       ]
      }
     ],
     "prompt_number": 17
    },
    {
     "cell_type": "code",
     "collapsed": false,
     "input": [
      "strip('  error  ')"
     ],
     "language": "python",
     "metadata": {},
     "outputs": [
      {
       "ename": "NameError",
       "evalue": "name 'strip' is not defined",
       "output_type": "pyerr",
       "traceback": [
        "\u001b[0;31m---------------------------------------------------------------------------\u001b[0m\n\u001b[0;31mNameError\u001b[0m                                 Traceback (most recent call last)",
        "\u001b[0;32m<ipython-input-18-dcc4185fc6e7>\u001b[0m in \u001b[0;36m<module>\u001b[0;34m()\u001b[0m\n\u001b[0;32m----> 1\u001b[0;31m \u001b[0mstrip\u001b[0m\u001b[0;34m(\u001b[0m\u001b[0;34m'  error  '\u001b[0m\u001b[0;34m)\u001b[0m\u001b[0;34m\u001b[0m\u001b[0m\n\u001b[0m",
        "\u001b[0;31mNameError\u001b[0m: name 'strip' is not defined"
       ]
      }
     ],
     "prompt_number": 18
    },
    {
     "cell_type": "code",
     "collapsed": false,
     "input": [
      "f2 = foo()\n",
      "\n",
      "print(f.message)\n"
     ],
     "language": "python",
     "metadata": {},
     "outputs": [
      {
       "output_type": "stream",
       "stream": "stdout",
       "text": [
        "Hello, World!\n"
       ]
      }
     ],
     "prompt_number": 19
    },
    {
     "cell_type": "code",
     "collapsed": false,
     "input": [
      "print(f2.message)"
     ],
     "language": "python",
     "metadata": {},
     "outputs": [
      {
       "ename": "AttributeError",
       "evalue": "'foo' object has no attribute 'message'",
       "output_type": "pyerr",
       "traceback": [
        "\u001b[0;31m---------------------------------------------------------------------------\u001b[0m\n\u001b[0;31mAttributeError\u001b[0m                            Traceback (most recent call last)",
        "\u001b[0;32m<ipython-input-20-7ffb6b909def>\u001b[0m in \u001b[0;36m<module>\u001b[0;34m()\u001b[0m\n\u001b[0;32m----> 1\u001b[0;31m \u001b[0mprint\u001b[0m\u001b[0;34m(\u001b[0m\u001b[0mf2\u001b[0m\u001b[0;34m.\u001b[0m\u001b[0mmessage\u001b[0m\u001b[0;34m)\u001b[0m\u001b[0;34m\u001b[0m\u001b[0m\n\u001b[0m",
        "\u001b[0;31mAttributeError\u001b[0m: 'foo' object has no attribute 'message'"
       ]
      }
     ],
     "prompt_number": 20
    },
    {
     "cell_type": "code",
     "collapsed": false,
     "input": [
      "class goo(object):\n",
      "    message = 'Hello, World'\n",
      "\n",
      "g1 = goo()\n",
      "print(dir(g1))"
     ],
     "language": "python",
     "metadata": {},
     "outputs": [
      {
       "output_type": "stream",
       "stream": "stdout",
       "text": [
        "['__class__', '__delattr__', '__dict__', '__dir__', '__doc__', '__eq__', '__format__', '__ge__', '__getattribute__', '__gt__', '__hash__', '__init__', '__le__', '__lt__', '__module__', '__ne__', '__new__', '__qualname__', '__reduce__', '__reduce_ex__', '__repr__', '__setattr__', '__sizeof__', '__str__', '__subclasshook__', '__weakref__', 'message']\n"
       ]
      }
     ],
     "prompt_number": 21
    },
    {
     "cell_type": "code",
     "collapsed": false,
     "input": [
      "g2 = goo()\n",
      "\n",
      "print(g1.message)\n",
      "print(g2.message)"
     ],
     "language": "python",
     "metadata": {},
     "outputs": [
      {
       "output_type": "stream",
       "stream": "stdout",
       "text": [
        "Hello, World\n",
        "Hello, World\n"
       ]
      }
     ],
     "prompt_number": 22
    },
    {
     "cell_type": "code",
     "collapsed": false,
     "input": [
      "g1.message = 'Hello, World!'\n",
      "\n",
      "print(dir(g1))\n",
      "print(g1.message)"
     ],
     "language": "python",
     "metadata": {},
     "outputs": [
      {
       "output_type": "stream",
       "stream": "stdout",
       "text": [
        "['__class__', '__delattr__', '__dict__', '__dir__', '__doc__', '__eq__', '__format__', '__ge__', '__getattribute__', '__gt__', '__hash__', '__init__', '__le__', '__lt__', '__module__', '__ne__', '__new__', '__qualname__', '__reduce__', '__reduce_ex__', '__repr__', '__setattr__', '__sizeof__', '__str__', '__subclasshook__', '__weakref__', 'message']\n",
        "Hello, World!\n"
       ]
      }
     ],
     "prompt_number": 23
    },
    {
     "cell_type": "code",
     "collapsed": false,
     "input": [
      "print(g2.message)"
     ],
     "language": "python",
     "metadata": {},
     "outputs": [
      {
       "output_type": "stream",
       "stream": "stdout",
       "text": [
        "Hello, World\n"
       ]
      }
     ],
     "prompt_number": 24
    },
    {
     "cell_type": "code",
     "collapsed": false,
     "input": [
      "g3 = goo()\n",
      "print(g3.message)"
     ],
     "language": "python",
     "metadata": {},
     "outputs": [
      {
       "output_type": "stream",
       "stream": "stdout",
       "text": [
        "Hello, World\n"
       ]
      }
     ],
     "prompt_number": 25
    },
    {
     "cell_type": "code",
     "collapsed": false,
     "input": [
      "print(goo.message)"
     ],
     "language": "python",
     "metadata": {},
     "outputs": [
      {
       "output_type": "stream",
       "stream": "stdout",
       "text": [
        "Hello, World\n"
       ]
      }
     ],
     "prompt_number": 26
    },
    {
     "cell_type": "code",
     "collapsed": false,
     "input": [
      "goo.message = 'It\\'s 12:05.'\n",
      "print(g1.message)\n",
      "print(g2.message)\n",
      "print(g3.message)"
     ],
     "language": "python",
     "metadata": {},
     "outputs": [
      {
       "output_type": "stream",
       "stream": "stdout",
       "text": [
        "Hello, World!\n",
        "It's 12:05.\n",
        "It's 12:05.\n"
       ]
      }
     ],
     "prompt_number": 27
    },
    {
     "cell_type": "markdown",
     "metadata": {},
     "source": [
      "## Using `self` in classes\n"
     ]
    },
    {
     "cell_type": "code",
     "collapsed": false,
     "input": [
      "class Student(object):\n",
      "    \"\"\"Simple student class.\"\"\"\n",
      "    def __init__(self, first_name='', last_name='', id=0):\n",
      "        self.first_name = first_name\n",
      "        self.last_name = last_name\n",
      "        self.id = id\n",
      "\n",
      "    def __str__(self):\n",
      "        return '{} {}, ID:{}'.format(self.first_name, self.last_name, self.id)\n",
      "\n",
      "s12345 = Student()\n",
      "print(dir(s12345))\n",
      "print(s12345)\n"
     ],
     "language": "python",
     "metadata": {},
     "outputs": [
      {
       "output_type": "stream",
       "stream": "stdout",
       "text": [
        "['__class__', '__delattr__', '__dict__', '__dir__', '__doc__', '__eq__', '__format__', '__ge__', '__getattribute__', '__gt__', '__hash__', '__init__', '__le__', '__lt__', '__module__', '__ne__', '__new__', '__qualname__', '__reduce__', '__reduce_ex__', '__repr__', '__setattr__', '__sizeof__', '__str__', '__subclasshook__', '__weakref__', 'first_name', 'id', 'last_name']\n",
        " , ID:0\n"
       ]
      }
     ],
     "prompt_number": 40
    },
    {
     "cell_type": "code",
     "collapsed": false,
     "input": [
      "Student.__init__"
     ],
     "language": "python",
     "metadata": {},
     "outputs": [
      {
       "metadata": {},
       "output_type": "pyout",
       "prompt_number": 41,
       "text": [
        "<function __main__.__init__>"
       ]
      }
     ],
     "prompt_number": 41
    },
    {
     "cell_type": "code",
     "collapsed": false,
     "input": [
      "s23456 = Student('Olive', 'College')\n",
      "dir(s23456)"
     ],
     "language": "python",
     "metadata": {},
     "outputs": [
      {
       "metadata": {},
       "output_type": "pyout",
       "prompt_number": 42,
       "text": [
        "['__class__',\n",
        " '__delattr__',\n",
        " '__dict__',\n",
        " '__dir__',\n",
        " '__doc__',\n",
        " '__eq__',\n",
        " '__format__',\n",
        " '__ge__',\n",
        " '__getattribute__',\n",
        " '__gt__',\n",
        " '__hash__',\n",
        " '__init__',\n",
        " '__le__',\n",
        " '__lt__',\n",
        " '__module__',\n",
        " '__ne__',\n",
        " '__new__',\n",
        " '__qualname__',\n",
        " '__reduce__',\n",
        " '__reduce_ex__',\n",
        " '__repr__',\n",
        " '__setattr__',\n",
        " '__sizeof__',\n",
        " '__str__',\n",
        " '__subclasshook__',\n",
        " '__weakref__',\n",
        " 'first_name',\n",
        " 'id',\n",
        " 'last_name']"
       ]
      }
     ],
     "prompt_number": 42
    },
    {
     "cell_type": "code",
     "collapsed": false,
     "input": [
      "print('s12345')\n",
      "print(s12345.first_name)\n",
      "print(s12345.last_name)\n",
      "print('s23456')\n",
      "print(s23456.first_name)\n",
      "print(s23456.last_name)\n"
     ],
     "language": "python",
     "metadata": {},
     "outputs": [
      {
       "output_type": "stream",
       "stream": "stdout",
       "text": [
        "s12345\n",
        "\n",
        "\n",
        "s23456\n",
        "Olive\n",
        "College\n"
       ]
      }
     ],
     "prompt_number": 43
    },
    {
     "cell_type": "code",
     "collapsed": false,
     "input": [
      "class Employee(object):\n",
      "    '''Simple employee class.'''\n",
      "    def __init__(self, first_name, last_name, id):\n",
      "        self.first_name = first_name\n",
      "        self.last_name = last_name\n",
      "        self.id = id\n",
      "        \n",
      "    def __str__(self):\n",
      "        return '{} {}, ID:{}'.format(self.first_name, self.last_name, self.id)\n",
      "\n",
      "\n",
      "e12345 = Employee()\n"
     ],
     "language": "python",
     "metadata": {},
     "outputs": [
      {
       "ename": "TypeError",
       "evalue": "__init__() missing 3 required positional arguments: 'first_name', 'last_name', and 'id'",
       "output_type": "pyerr",
       "traceback": [
        "\u001b[0;31m---------------------------------------------------------------------------\u001b[0m\n\u001b[0;31mTypeError\u001b[0m                                 Traceback (most recent call last)",
        "\u001b[0;32m<ipython-input-54-21dc7b30e783>\u001b[0m in \u001b[0;36m<module>\u001b[0;34m()\u001b[0m\n\u001b[1;32m     10\u001b[0m \u001b[0;34m\u001b[0m\u001b[0m\n\u001b[1;32m     11\u001b[0m \u001b[0;34m\u001b[0m\u001b[0m\n\u001b[0;32m---> 12\u001b[0;31m \u001b[0me12345\u001b[0m \u001b[0;34m=\u001b[0m \u001b[0mEmployee\u001b[0m\u001b[0;34m(\u001b[0m\u001b[0;34m)\u001b[0m\u001b[0;34m\u001b[0m\u001b[0m\n\u001b[0m",
        "\u001b[0;31mTypeError\u001b[0m: __init__() missing 3 required positional arguments: 'first_name', 'last_name', and 'id'"
       ]
      }
     ],
     "prompt_number": 54
    },
    {
     "cell_type": "markdown",
     "metadata": {},
     "source": [
      "## What happens during instantiation\n",
      "\n",
      "1. An object of the type defined by the class is created\n",
      "2. If the class has a __init__() defined, it is called with the new object as the first parameter\n",
      "3. New object of the type defined by the class is returned"
     ]
    },
    {
     "cell_type": "code",
     "collapsed": false,
     "input": [
      "s12345"
     ],
     "language": "python",
     "metadata": {},
     "outputs": [
      {
       "metadata": {},
       "output_type": "pyout",
       "prompt_number": 55,
       "text": [
        "<__main__.Student at 0x106ec4790>"
       ]
      }
     ],
     "prompt_number": 55
    },
    {
     "cell_type": "code",
     "collapsed": false,
     "input": [
      "Student.__init__(s12345, 'Test', 'User')\n",
      "print(s12345.first_name)\n",
      "print(s12345.last_name)"
     ],
     "language": "python",
     "metadata": {},
     "outputs": [
      {
       "output_type": "stream",
       "stream": "stdout",
       "text": [
        "Test\n",
        "User\n"
       ]
      }
     ],
     "prompt_number": 56
    },
    {
     "cell_type": "code",
     "collapsed": false,
     "input": [
      "s34567 = Student()\n",
      "Student.__init__(s34567, 'Some', 'Dude')\n",
      "\n",
      "s45678 = Student('Some', 'Gal')\n",
      "\n",
      "e12345 = Employee('Some', 'Prof', 12345)\n",
      "\n",
      "print(s34567.first_name, s34567.last_name)\n",
      "print(s45678.first_name, s45678.last_name)\n",
      "print(e12345.first_name, e12345.last_name)\n"
     ],
     "language": "python",
     "metadata": {},
     "outputs": [
      {
       "output_type": "stream",
       "stream": "stdout",
       "text": [
        "Some Dude\n",
        "Some Gal\n",
        "Some Prof\n"
       ]
      }
     ],
     "prompt_number": 57
    },
    {
     "cell_type": "code",
     "collapsed": false,
     "input": [
      "s12345"
     ],
     "language": "python",
     "metadata": {},
     "outputs": [
      {
       "metadata": {},
       "output_type": "pyout",
       "prompt_number": 58,
       "text": [
        "<__main__.Student at 0x106ec4790>"
       ]
      }
     ],
     "prompt_number": 58
    },
    {
     "cell_type": "code",
     "collapsed": false,
     "input": [
      "s23456"
     ],
     "language": "python",
     "metadata": {},
     "outputs": [
      {
       "metadata": {},
       "output_type": "pyout",
       "prompt_number": 59,
       "text": [
        "<__main__.Student at 0x106edc750>"
       ]
      }
     ],
     "prompt_number": 59
    },
    {
     "cell_type": "code",
     "collapsed": false,
     "input": [
      "print(s12345)"
     ],
     "language": "python",
     "metadata": {},
     "outputs": [
      {
       "output_type": "stream",
       "stream": "stdout",
       "text": [
        "Test User, ID:0\n"
       ]
      }
     ],
     "prompt_number": 60
    },
    {
     "cell_type": "code",
     "collapsed": false,
     "input": [
      "print(s23456)\n",
      "print(s34567)"
     ],
     "language": "python",
     "metadata": {},
     "outputs": [
      {
       "output_type": "stream",
       "stream": "stdout",
       "text": [
        "Olive College, ID:0\n",
        "Some Dude, ID:0\n"
       ]
      }
     ],
     "prompt_number": 61
    },
    {
     "cell_type": "code",
     "collapsed": false,
     "input": [
      "print(s45678)"
     ],
     "language": "python",
     "metadata": {},
     "outputs": [
      {
       "output_type": "stream",
       "stream": "stdout",
       "text": [
        "Some Gal, ID:0\n"
       ]
      }
     ],
     "prompt_number": 62
    },
    {
     "cell_type": "code",
     "collapsed": false,
     "input": [
      "e38310 = Employee('Marcus', 'Darden', 38310)\n",
      "print(e38310)"
     ],
     "language": "python",
     "metadata": {},
     "outputs": [
      {
       "output_type": "stream",
       "stream": "stdout",
       "text": [
        "Marcus Darden, ID:38310\n"
       ]
      }
     ],
     "prompt_number": 63
    },
    {
     "cell_type": "markdown",
     "metadata": {},
     "source": [
      "Python Classes and Special Methods\n",
      "----------------------------------\n",
      "\n",
      "* Special methods use `__<method>__` (also known as dunder)\n",
      "    * `__init__` used to initialize an object after creation\n",
      "    * `__str__` returns a string representation of the object\n",
      "    * `__repr__` returns a string representation of the object"
     ]
    },
    {
     "cell_type": "markdown",
     "metadata": {},
     "source": [
      "Python Class Methods and `self`\n",
      "-------------------------------\n",
      "\n",
      "This is in place for the syntactic sugaring that exists.\n",
      "\n",
      "`my_object.my_method(my_arg)`\n",
      "\n",
      "same as\n",
      "\n",
      "`my_class.my_method(my_object, my_arg)`\n",
      "\n",
      "```\n",
      "h1 = hoo()\n",
      "h1.calculate(5)\n",
      "```\n",
      "\n",
      "same as\n",
      "\n",
      "```\n",
      "hoo.calculate(h1, 5)\n",
      "```\n",
      "\n",
      "So this is why when we write calculate, it looks like this:\n",
      "\n",
      "```\n",
      "class hoo(object):\n",
      "    def calculate(self, value):\n",
      "        return value + 1\n",
      "```"
     ]
    },
    {
     "cell_type": "code",
     "collapsed": false,
     "input": [
      "class student(object):\n",
      "    school = 'Olivet College'\n",
      "    \n",
      "    def __init__(self, first, last, id):\n",
      "        self.first = first\n",
      "        self.last = last\n",
      "        self.id = id\n",
      "    \n",
      "    def __str__(self):\n",
      "        return '<{3} Student {0}, {1}  -- ID: {2}>'.format(self.last, self.first, self.id, self.school)\n",
      "\n",
      "    def transfer(self, school, id):\n",
      "        self.school = school\n",
      "        self.id = id\n",
      "\n",
      "s1 = student('John', 'Sununu', 40344)\n",
      "print(s1)\n",
      "s2 = student('Steve', 'Works', 34092)\n",
      "print(s2)\n",
      "print(repr(s1))\n",
      "print(repr(s2))\n",
      "\n",
      "print()\n",
      "\n",
      "s1.transfer('Sunnyvale College', 120134)\n",
      "print(s1)\n",
      "print(s2)\n",
      "print(repr(s1))\n",
      "print(repr(s2))\n"
     ],
     "language": "python",
     "metadata": {},
     "outputs": [
      {
       "output_type": "stream",
       "stream": "stdout",
       "text": [
        "<Olivet College Student Sununu, John  -- ID: 40344>\n",
        "<Olivet College Student Works, Steve  -- ID: 34092>\n",
        "<__main__.student object at 0x7f0eb9284090>\n",
        "<__main__.student object at 0x7f0ebcf37750>\n",
        "\n",
        "<Sunnyvale College Student Sununu, John  -- ID: 120134>\n",
        "<Olivet College Student Works, Steve  -- ID: 34092>\n",
        "<__main__.student object at 0x7f0eb9284090>\n",
        "<__main__.student object at 0x7f0ebcf37750>\n"
       ]
      }
     ],
     "prompt_number": 3
    }
   ],
   "metadata": {}
  }
 ]
}
