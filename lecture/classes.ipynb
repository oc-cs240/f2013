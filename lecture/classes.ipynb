{
 "metadata": {
  "name": ""
 },
 "nbformat": 3,
 "nbformat_minor": 0,
 "worksheets": [
  {
   "cells": [
    {
     "cell_type": "markdown",
     "metadata": {},
     "source": [
      "Python Classes\n",
      "==============\n",
      "\n",
      "Classes are \"blueprints\" for creating python object(s).\n",
      "\n",
      "Keyword: class\n",
      "\n",
      "Syntax:\n",
      "\n",
      "```\n",
      "class <className>(<parent-object>):\n",
      "    # Class suite (minimum 1 line)\n",
      "    pass\n",
      "```"
     ]
    },
    {
     "cell_type": "code",
     "collapsed": false,
     "input": [
      "class foo(object):\n",
      "    pass\n",
      "\n",
      "f = foo()\n",
      "print(dir(f))\n",
      "print(type(f))"
     ],
     "language": "python",
     "metadata": {},
     "outputs": [
      {
       "output_type": "stream",
       "stream": "stdout",
       "text": [
        "['__class__', '__delattr__', '__dict__', '__dir__', '__doc__', '__eq__', '__format__', '__ge__', '__getattribute__', '__gt__', '__hash__', '__init__', '__le__', '__lt__', '__module__', '__ne__', '__new__', '__qualname__', '__reduce__', '__reduce_ex__', '__repr__', '__setattr__', '__sizeof__', '__str__', '__subclasshook__', '__weakref__']\n",
        "<class '__main__.foo'>\n"
       ]
      }
     ],
     "prompt_number": 3
    },
    {
     "cell_type": "code",
     "collapsed": false,
     "input": [
      "f.message = 'Hello, World!'"
     ],
     "language": "python",
     "metadata": {},
     "outputs": [],
     "prompt_number": 4
    },
    {
     "cell_type": "code",
     "collapsed": false,
     "input": [
      "print(dir(f))"
     ],
     "language": "python",
     "metadata": {},
     "outputs": [
      {
       "output_type": "stream",
       "stream": "stdout",
       "text": [
        "['__class__', '__delattr__', '__dict__', '__dir__', '__doc__', '__eq__', '__format__', '__ge__', '__getattribute__', '__gt__', '__hash__', '__init__', '__le__', '__lt__', '__module__', '__ne__', '__new__', '__qualname__', '__reduce__', '__reduce_ex__', '__repr__', '__setattr__', '__sizeof__', '__str__', '__subclasshook__', '__weakref__', 'message']\n"
       ]
      }
     ],
     "prompt_number": 5
    },
    {
     "cell_type": "code",
     "collapsed": false,
     "input": [
      "'  Hello  '.strip()"
     ],
     "language": "python",
     "metadata": {},
     "outputs": [
      {
       "metadata": {},
       "output_type": "pyout",
       "prompt_number": 6,
       "text": [
        "'Hello'"
       ]
      }
     ],
     "prompt_number": 6
    },
    {
     "cell_type": "code",
     "collapsed": false,
     "input": [
      "strip('  error  ')"
     ],
     "language": "python",
     "metadata": {},
     "outputs": [
      {
       "ename": "NameError",
       "evalue": "name 'strip' is not defined",
       "output_type": "pyerr",
       "traceback": [
        "\u001b[1;31m---------------------------------------------------------------------------\u001b[0m\n\u001b[1;31mNameError\u001b[0m                                 Traceback (most recent call last)",
        "\u001b[1;32m<ipython-input-7-dcc4185fc6e7>\u001b[0m in \u001b[0;36m<module>\u001b[1;34m()\u001b[0m\n\u001b[1;32m----> 1\u001b[1;33m \u001b[0mstrip\u001b[0m\u001b[1;33m(\u001b[0m\u001b[1;34m'  error  '\u001b[0m\u001b[1;33m)\u001b[0m\u001b[1;33m\u001b[0m\u001b[0m\n\u001b[0m",
        "\u001b[1;31mNameError\u001b[0m: name 'strip' is not defined"
       ]
      }
     ],
     "prompt_number": 7
    },
    {
     "cell_type": "code",
     "collapsed": false,
     "input": [
      "f2 = foo()\n",
      "\n",
      "print(f.message)\n"
     ],
     "language": "python",
     "metadata": {},
     "outputs": [
      {
       "output_type": "stream",
       "stream": "stdout",
       "text": [
        "Hello, World!\n"
       ]
      }
     ],
     "prompt_number": 8
    },
    {
     "cell_type": "code",
     "collapsed": false,
     "input": [
      "print(f2.message)"
     ],
     "language": "python",
     "metadata": {},
     "outputs": [
      {
       "ename": "AttributeError",
       "evalue": "'foo' object has no attribute 'message'",
       "output_type": "pyerr",
       "traceback": [
        "\u001b[1;31m---------------------------------------------------------------------------\u001b[0m\n\u001b[1;31mAttributeError\u001b[0m                            Traceback (most recent call last)",
        "\u001b[1;32m<ipython-input-9-7ffb6b909def>\u001b[0m in \u001b[0;36m<module>\u001b[1;34m()\u001b[0m\n\u001b[1;32m----> 1\u001b[1;33m \u001b[0mprint\u001b[0m\u001b[1;33m(\u001b[0m\u001b[0mf2\u001b[0m\u001b[1;33m.\u001b[0m\u001b[0mmessage\u001b[0m\u001b[1;33m)\u001b[0m\u001b[1;33m\u001b[0m\u001b[0m\n\u001b[0m",
        "\u001b[1;31mAttributeError\u001b[0m: 'foo' object has no attribute 'message'"
       ]
      }
     ],
     "prompt_number": 9
    },
    {
     "cell_type": "code",
     "collapsed": false,
     "input": [
      "class goo(object):\n",
      "    message = 'Hello, World'\n",
      "\n",
      "g1 = goo()\n",
      "print(dir(g1))"
     ],
     "language": "python",
     "metadata": {},
     "outputs": [
      {
       "output_type": "stream",
       "stream": "stdout",
       "text": [
        "['__class__', '__delattr__', '__dict__', '__dir__', '__doc__', '__eq__', '__format__', '__ge__', '__getattribute__', '__gt__', '__hash__', '__init__', '__le__', '__lt__', '__module__', '__ne__', '__new__', '__qualname__', '__reduce__', '__reduce_ex__', '__repr__', '__setattr__', '__sizeof__', '__str__', '__subclasshook__', '__weakref__', 'message']\n"
       ]
      }
     ],
     "prompt_number": 11
    },
    {
     "cell_type": "code",
     "collapsed": false,
     "input": [
      "g2 = goo()\n",
      "\n",
      "print(g1.message)\n",
      "print(g2.message)"
     ],
     "language": "python",
     "metadata": {},
     "outputs": [
      {
       "output_type": "stream",
       "stream": "stdout",
       "text": [
        "Hello, World\n",
        "Hello, World\n"
       ]
      }
     ],
     "prompt_number": 12
    },
    {
     "cell_type": "code",
     "collapsed": false,
     "input": [
      "g1.message = 'Hello, World!'\n",
      "\n",
      "print(dir(g1))\n",
      "print(g1.message)"
     ],
     "language": "python",
     "metadata": {},
     "outputs": [
      {
       "output_type": "stream",
       "stream": "stdout",
       "text": [
        "['__class__', '__delattr__', '__dict__', '__dir__', '__doc__', '__eq__', '__format__', '__ge__', '__getattribute__', '__gt__', '__hash__', '__init__', '__le__', '__lt__', '__module__', '__ne__', '__new__', '__qualname__', '__reduce__', '__reduce_ex__', '__repr__', '__setattr__', '__sizeof__', '__str__', '__subclasshook__', '__weakref__', 'message']\n",
        "Hello, World!\n"
       ]
      }
     ],
     "prompt_number": 13
    },
    {
     "cell_type": "code",
     "collapsed": false,
     "input": [
      "print(g2.message)"
     ],
     "language": "python",
     "metadata": {},
     "outputs": [
      {
       "output_type": "stream",
       "stream": "stdout",
       "text": [
        "Hello, World\n"
       ]
      }
     ],
     "prompt_number": 14
    },
    {
     "cell_type": "code",
     "collapsed": false,
     "input": [
      "g3 = goo()\n",
      "print(g3.message)"
     ],
     "language": "python",
     "metadata": {},
     "outputs": [
      {
       "output_type": "stream",
       "stream": "stdout",
       "text": [
        "Hello, World\n"
       ]
      }
     ],
     "prompt_number": 15
    },
    {
     "cell_type": "code",
     "collapsed": false,
     "input": [
      "print(goo.message)"
     ],
     "language": "python",
     "metadata": {},
     "outputs": [
      {
       "output_type": "stream",
       "stream": "stdout",
       "text": [
        "Hello, World\n"
       ]
      }
     ],
     "prompt_number": 16
    },
    {
     "cell_type": "code",
     "collapsed": false,
     "input": [
      "goo.message = 'It\\'s 12:05.'\n",
      "print(g1.message)\n",
      "print(g2.message)\n",
      "print(g3.message)"
     ],
     "language": "python",
     "metadata": {},
     "outputs": [
      {
       "output_type": "stream",
       "stream": "stdout",
       "text": [
        "Hello, World!\n",
        "It's 12:05.\n",
        "It's 12:05.\n"
       ]
      }
     ],
     "prompt_number": 17
    },
    {
     "cell_type": "markdown",
     "metadata": {},
     "source": [
      "Python Classes and Special Methods\n",
      "----------------------------------\n",
      "\n",
      "* Special methods use `__<method>__` (also known as dunder)\n",
      "    * `__init__` used to initialize an object after creation\n",
      "    * `__str__` returns a string representation of the object\n",
      "    * `__repr__` returns a string representation of the object"
     ]
    },
    {
     "cell_type": "markdown",
     "metadata": {},
     "source": [
      "Python Class Methods and `self`\n",
      "-------------------------------\n",
      "\n",
      "This is in place for the syntactic sugaring that exists.\n",
      "\n",
      "`my_object.my_method(my_arg)`\n",
      "\n",
      "same as\n",
      "\n",
      "`my_class.my_method(my_object, my_arg)`\n",
      "\n",
      "```\n",
      "h1 = hoo()\n",
      "h1.calculate(5)\n",
      "```\n",
      "\n",
      "same as\n",
      "\n",
      "```\n",
      "hoo.calculate(h1, 5)\n",
      "```\n",
      "\n",
      "So this is why when we write calculate, it looks like this:\n",
      "\n",
      "```\n",
      "class hoo(object):\n",
      "    def calculate(self, value):\n",
      "        return value + 1\n",
      "```"
     ]
    },
    {
     "cell_type": "code",
     "collapsed": false,
     "input": [
      "class student(object):\n",
      "    school = 'Olivet College'\n",
      "    \n",
      "    def __init__(self, first, last, id):\n",
      "        self.first = first\n",
      "        self.last = last\n",
      "        self.id = id\n",
      "    \n",
      "    def __str__(self):\n",
      "        return '<{3} Student {0}, {1}  -- ID: {2}>'.format(self.last, self.first, self.id, self.school)\n",
      "\n",
      "    def transfer(self, school, id):\n",
      "        self.school = school\n",
      "        self.id = id\n",
      "\n",
      "s1 = student('John', 'Sununu', 40344)\n",
      "print(s1)\n",
      "s2 = student('Steve', 'Works', 34092)\n",
      "print(s2)\n",
      "print(repr(s1))\n",
      "print(repr(s2))\n",
      "\n",
      "print()\n",
      "\n",
      "s1.transfer('Sunnyvale College', 120134)\n",
      "print(s1)\n",
      "print(s2)\n",
      "print(repr(s1))\n",
      "print(repr(s2))\n"
     ],
     "language": "python",
     "metadata": {},
     "outputs": [
      {
       "output_type": "stream",
       "stream": "stdout",
       "text": [
        "<Olivet College Student Sununu, John  -- ID: 40344>\n",
        "<Olivet College Student Works, Steve  -- ID: 34092>\n",
        "<__main__.student object at 0x7f0eb9284090>\n",
        "<__main__.student object at 0x7f0ebcf37750>\n",
        "\n",
        "<Sunnyvale College Student Sununu, John  -- ID: 120134>\n",
        "<Olivet College Student Works, Steve  -- ID: 34092>\n",
        "<__main__.student object at 0x7f0eb9284090>\n",
        "<__main__.student object at 0x7f0ebcf37750>\n"
       ]
      }
     ],
     "prompt_number": 3
    }
   ],
   "metadata": {}
  }
 ]
}