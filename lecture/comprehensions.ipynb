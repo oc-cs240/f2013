{
 "metadata": {
  "name": ""
 },
 "nbformat": 3,
 "nbformat_minor": 0,
 "worksheets": [
  {
   "cells": [
    {
     "cell_type": "markdown",
     "metadata": {},
     "source": [
      "Comprehensions (list and otherwise)\n",
      "===================================\n",
      "\n",
      "A comprehension generates a collection from a collection. (text pp. 337-340)\n",
      "\n",
      "This includes all iteration, plus the ability to modify and selectively\n",
      "skip elements.\n",
      "\n",
      "List Comprehension\n",
      "------------------\n",
      "\n",
      "    # Syntax\n",
      "    # Mapping\n",
      "    [<item> <iteration>]\n",
      "\n",
      "    # Filtering\n",
      "    [<item> <iteration> if <expression>]"
     ]
    },
    {
     "cell_type": "code",
     "collapsed": false,
     "input": [
      "# Examples\n",
      "[item for item in other_list]  # Create a copy of the original list\n",
      "[modify(item) for item in other_list]  # Modified list\n",
      "[item for item in other_list if item > value]  # Filtered list\n",
      "[taxpayer for taxpayer in country if random_5_percent()]"
     ],
     "language": "python",
     "metadata": {},
     "outputs": []
    },
    {
     "cell_type": "markdown",
     "metadata": {},
     "source": [
      "Dictionary Comprehension\n",
      "------------------------\n",
      "\n",
      "    # Syntax\n",
      "    # Mapping\n",
      "    {<key>: <value> <iteration>}\n",
      "    \n",
      "    # Filtering\n",
      "    {<key>: <value> <iteration> if <expression>}"
     ]
    },
    {
     "cell_type": "code",
     "collapsed": false,
     "input": [
      "d = {'a': 1, 'b': 2, 'c': 3}\n",
      "dc1 = {k: v for k, v in d.items()}\n",
      "dc2 = {item[1]: item[0] for item in d.items()}\n",
      "dc3 = {item[0]: item[1] * 10 for item in d.items() if item[1] % 2 == 1}\n",
      "print(d)\n",
      "print(dc1)\n",
      "print(dc2)\n",
      "print(dc3)"
     ],
     "language": "python",
     "metadata": {},
     "outputs": [
      {
       "output_type": "stream",
       "stream": "stdout",
       "text": [
        "{'b': 2, 'c': 3, 'a': 1}\n",
        "{'b': 2, 'c': 3, 'a': 1}\n",
        "{1: 'a', 2: 'b', 3: 'c'}\n",
        "{'c': 30, 'a': 10}\n"
       ]
      }
     ],
     "prompt_number": 3
    }
   ],
   "metadata": {}
  }
 ]
}