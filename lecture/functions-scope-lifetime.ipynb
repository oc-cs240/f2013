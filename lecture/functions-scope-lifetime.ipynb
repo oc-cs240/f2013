{
 "metadata": {
  "name": ""
 },
 "nbformat": 3,
 "nbformat_minor": 0,
 "worksheets": [
  {
   "cells": [
    {
     "cell_type": "markdown",
     "metadata": {},
     "source": [
      "Functions, Scope, and Lifetime\n",
      "==============================\n",
      "\n",
      "The rule in python is called LEGB.\n",
      "\n",
      "* Local scope\n",
      "* Enclosed scope\n",
      "* Global scope\n",
      "* Builtins\n",
      "\n",
      "Local Scope\n",
      "-----------\n",
      "\n",
      "All things defined in a function, in suite, and also in header (parameters/arguments)"
     ]
    },
    {
     "cell_type": "code",
     "collapsed": false,
     "input": [
      "# Function example\n",
      "\n",
      "def some_function(local1, local2):\n",
      "    local3 = 0\n",
      "    \n",
      "    print(locals())\n",
      "    \n",
      "    print('{local1} is not the same as {local2}'.format(local1=6, local2=10))\n",
      "    print('{local1} is not the same as {local2}'.format(**locals()))\n",
      "    print('{local1} is not the same as {local2}'.format(local1=0, local2=1, local3=0))\n",
      "    \n",
      "\n",
      "some_function(0, 1)"
     ],
     "language": "python",
     "metadata": {},
     "outputs": [
      {
       "output_type": "stream",
       "stream": "stdout",
       "text": [
        "{'local1': 0, 'local3': 0, 'local2': 1}\n",
        "6 is not the same as 10\n",
        "0 is not the same as 1\n",
        "0 is not the same as 1\n"
       ]
      }
     ],
     "prompt_number": 4
    },
    {
     "cell_type": "markdown",
     "metadata": {},
     "source": [
      "Enclosed Scope\n",
      "--------------\n",
      "\n",
      "Like a mini \"Global\" scope, but it deals with functions that are defined inside other functions."
     ]
    },
    {
     "cell_type": "code",
     "collapsed": false,
     "input": [
      "def new_function(arg1, arg2):\n",
      "    arg3 = 0\n",
      "    \n",
      "    def inner_function(arg4):\n",
      "        return locals(), arg1, arg2\n",
      "    \n",
      "    print('new_function locals', locals())\n",
      "    print('inner_function locals', inner_function(2))\n",
      "\n",
      "new_function(0, 1)\n"
     ],
     "language": "python",
     "metadata": {},
     "outputs": [
      {
       "output_type": "stream",
       "stream": "stdout",
       "text": [
        "new_function locals {'arg1': 0, 'arg2': 1, 'arg3': 0, 'inner_function': <function new_function.<locals>.inner_function at 0x1064abef0>}\n",
        "inner_function locals ({'arg1': 0, 'arg2': 1, 'arg4': 2}, 0, 1)\n"
       ]
      }
     ],
     "prompt_number": 13
    },
    {
     "cell_type": "markdown",
     "metadata": {},
     "source": [
      "Global Scope\n",
      "------------\n",
      "\n",
      "There's a global keyword, that can access globals by force.\n",
      "\n",
      "Should be called 'module'"
     ]
    },
    {
     "cell_type": "code",
     "collapsed": false,
     "input": [
      "some_var1 = 10\n",
      "\n",
      "def any_function():\n",
      "    global some_var1\n",
      "    a_var1 = 5\n",
      "    \n",
      "    print(some_var1)  # Global some_var1?? NOPE!\n",
      "    some_var1 = 100\n",
      "    print(a_var1, some_var1)  # Local some_var1?? YEP!\n",
      "\n",
      "any_function()\n",
      "print(some_var1)"
     ],
     "language": "python",
     "metadata": {},
     "outputs": [
      {
       "output_type": "stream",
       "stream": "stdout",
       "text": [
        "10\n",
        "5 100\n",
        "100\n"
       ]
      }
     ],
     "prompt_number": 20
    },
    {
     "cell_type": "code",
     "collapsed": false,
     "input": [
      "some_var2 = 5\n",
      "\n",
      "def my_function_o():\n",
      "    some_var2 = 10\n",
      "    \n",
      "    def my_function_i():\n",
      "        #global some_var2\n",
      "        \n",
      "        print('In my_function_i:', some_var2)\n",
      "    \n",
      "    print('In my_function_o:', some_var2)\n",
      "    my_function_i()\n",
      "\n",
      "my_function_o()"
     ],
     "language": "python",
     "metadata": {},
     "outputs": [
      {
       "output_type": "stream",
       "stream": "stdout",
       "text": [
        "In my_function_o: 10\n",
        "In my_function_i: 10\n"
       ]
      }
     ],
     "prompt_number": 23
    },
    {
     "cell_type": "markdown",
     "metadata": {},
     "source": [
      "Builtin Scope\n",
      "-------------\n",
      "\n",
      "This is truly global, as it available to all modules."
     ]
    },
    {
     "cell_type": "code",
     "collapsed": false,
     "input": [
      "dir()"
     ],
     "language": "python",
     "metadata": {},
     "outputs": [
      {
       "metadata": {},
       "output_type": "pyout",
       "prompt_number": 24,
       "text": [
        "['In',\n",
        " 'Out',\n",
        " '_',\n",
        " '__',\n",
        " '___',\n",
        " '__builtin__',\n",
        " '__builtins__',\n",
        " '__doc__',\n",
        " '__name__',\n",
        " '_dh',\n",
        " '_i',\n",
        " '_i1',\n",
        " '_i10',\n",
        " '_i11',\n",
        " '_i12',\n",
        " '_i13',\n",
        " '_i14',\n",
        " '_i15',\n",
        " '_i16',\n",
        " '_i17',\n",
        " '_i18',\n",
        " '_i19',\n",
        " '_i2',\n",
        " '_i20',\n",
        " '_i21',\n",
        " '_i22',\n",
        " '_i23',\n",
        " '_i24',\n",
        " '_i3',\n",
        " '_i4',\n",
        " '_i5',\n",
        " '_i6',\n",
        " '_i7',\n",
        " '_i8',\n",
        " '_i9',\n",
        " '_ih',\n",
        " '_ii',\n",
        " '_iii',\n",
        " '_oh',\n",
        " '_sh',\n",
        " 'any_function',\n",
        " 'exit',\n",
        " 'get_ipython',\n",
        " 'help',\n",
        " 'my_function_o',\n",
        " 'new_function',\n",
        " 'quit',\n",
        " 'some_function',\n",
        " 'some_var1',\n",
        " 'some_var2']"
       ]
      }
     ],
     "prompt_number": 24
    },
    {
     "cell_type": "code",
     "collapsed": false,
     "input": [
      "__builtin__"
     ],
     "language": "python",
     "metadata": {},
     "outputs": [
      {
       "metadata": {},
       "output_type": "pyout",
       "prompt_number": 25,
       "text": [
        "<module 'builtins'>"
       ]
      }
     ],
     "prompt_number": 25
    },
    {
     "cell_type": "code",
     "collapsed": false,
     "input": [
      "__builtins__"
     ],
     "language": "python",
     "metadata": {},
     "outputs": [
      {
       "metadata": {},
       "output_type": "pyout",
       "prompt_number": 26,
       "text": [
        "<module 'builtins'>"
       ]
      }
     ],
     "prompt_number": 26
    },
    {
     "cell_type": "code",
     "collapsed": false,
     "input": [
      "dir(__builtins__)"
     ],
     "language": "python",
     "metadata": {},
     "outputs": [
      {
       "metadata": {},
       "output_type": "pyout",
       "prompt_number": 27,
       "text": [
        "['ArithmeticError',\n",
        " 'AssertionError',\n",
        " 'AttributeError',\n",
        " 'BaseException',\n",
        " 'BlockingIOError',\n",
        " 'BrokenPipeError',\n",
        " 'BufferError',\n",
        " 'BytesWarning',\n",
        " 'ChildProcessError',\n",
        " 'ConnectionAbortedError',\n",
        " 'ConnectionError',\n",
        " 'ConnectionRefusedError',\n",
        " 'ConnectionResetError',\n",
        " 'DeprecationWarning',\n",
        " 'EOFError',\n",
        " 'Ellipsis',\n",
        " 'EnvironmentError',\n",
        " 'Exception',\n",
        " 'False',\n",
        " 'FileExistsError',\n",
        " 'FileNotFoundError',\n",
        " 'FloatingPointError',\n",
        " 'FutureWarning',\n",
        " 'GeneratorExit',\n",
        " 'IOError',\n",
        " 'ImportError',\n",
        " 'ImportWarning',\n",
        " 'IndentationError',\n",
        " 'IndexError',\n",
        " 'InterruptedError',\n",
        " 'IsADirectoryError',\n",
        " 'KeyError',\n",
        " 'KeyboardInterrupt',\n",
        " 'LookupError',\n",
        " 'MemoryError',\n",
        " 'NameError',\n",
        " 'None',\n",
        " 'NotADirectoryError',\n",
        " 'NotImplemented',\n",
        " 'NotImplementedError',\n",
        " 'OSError',\n",
        " 'OverflowError',\n",
        " 'PendingDeprecationWarning',\n",
        " 'PermissionError',\n",
        " 'ProcessLookupError',\n",
        " 'ReferenceError',\n",
        " 'ResourceWarning',\n",
        " 'RuntimeError',\n",
        " 'RuntimeWarning',\n",
        " 'StopIteration',\n",
        " 'SyntaxError',\n",
        " 'SyntaxWarning',\n",
        " 'SystemError',\n",
        " 'SystemExit',\n",
        " 'TabError',\n",
        " 'TimeoutError',\n",
        " 'True',\n",
        " 'TypeError',\n",
        " 'UnboundLocalError',\n",
        " 'UnicodeDecodeError',\n",
        " 'UnicodeEncodeError',\n",
        " 'UnicodeError',\n",
        " 'UnicodeTranslateError',\n",
        " 'UnicodeWarning',\n",
        " 'UserWarning',\n",
        " 'ValueError',\n",
        " 'Warning',\n",
        " 'ZeroDivisionError',\n",
        " '__IPYTHON__',\n",
        " '__IPYTHON__active',\n",
        " '__build_class__',\n",
        " '__debug__',\n",
        " '__doc__',\n",
        " '__import__',\n",
        " '__name__',\n",
        " '__package__',\n",
        " 'abs',\n",
        " 'all',\n",
        " 'any',\n",
        " 'ascii',\n",
        " 'bin',\n",
        " 'bool',\n",
        " 'bytearray',\n",
        " 'bytes',\n",
        " 'callable',\n",
        " 'chr',\n",
        " 'classmethod',\n",
        " 'compile',\n",
        " 'complex',\n",
        " 'copyright',\n",
        " 'credits',\n",
        " 'delattr',\n",
        " 'dict',\n",
        " 'dir',\n",
        " 'divmod',\n",
        " 'dreload',\n",
        " 'enumerate',\n",
        " 'eval',\n",
        " 'exec',\n",
        " 'filter',\n",
        " 'float',\n",
        " 'format',\n",
        " 'frozenset',\n",
        " 'get_ipython',\n",
        " 'getattr',\n",
        " 'globals',\n",
        " 'hasattr',\n",
        " 'hash',\n",
        " 'help',\n",
        " 'hex',\n",
        " 'id',\n",
        " 'input',\n",
        " 'int',\n",
        " 'isinstance',\n",
        " 'issubclass',\n",
        " 'iter',\n",
        " 'len',\n",
        " 'license',\n",
        " 'list',\n",
        " 'locals',\n",
        " 'map',\n",
        " 'max',\n",
        " 'memoryview',\n",
        " 'min',\n",
        " 'next',\n",
        " 'object',\n",
        " 'oct',\n",
        " 'open',\n",
        " 'ord',\n",
        " 'pow',\n",
        " 'print',\n",
        " 'property',\n",
        " 'range',\n",
        " 'repr',\n",
        " 'reversed',\n",
        " 'round',\n",
        " 'set',\n",
        " 'setattr',\n",
        " 'slice',\n",
        " 'sorted',\n",
        " 'staticmethod',\n",
        " 'str',\n",
        " 'sum',\n",
        " 'super',\n",
        " 'tuple',\n",
        " 'type',\n",
        " 'vars',\n",
        " 'zip']"
       ]
      }
     ],
     "prompt_number": 27
    },
    {
     "cell_type": "code",
     "collapsed": false,
     "input": [
      "type(__builtins__)"
     ],
     "language": "python",
     "metadata": {},
     "outputs": [
      {
       "metadata": {},
       "output_type": "pyout",
       "prompt_number": 28,
       "text": [
        "builtins.module"
       ]
      }
     ],
     "prompt_number": 28
    },
    {
     "cell_type": "code",
     "collapsed": false,
     "input": [
      "__builtins__.my_var = 10"
     ],
     "language": "python",
     "metadata": {},
     "outputs": [],
     "prompt_number": 29
    },
    {
     "cell_type": "code",
     "collapsed": false,
     "input": [
      "print(my_var)"
     ],
     "language": "python",
     "metadata": {},
     "outputs": [
      {
       "output_type": "stream",
       "stream": "stdout",
       "text": [
        "10\n"
       ]
      }
     ],
     "prompt_number": 30
    },
    {
     "cell_type": "code",
     "collapsed": false,
     "input": [
      "def any_old_func():\n",
      "    print(my_var)\n",
      "\n",
      "any_old_func()"
     ],
     "language": "python",
     "metadata": {},
     "outputs": [
      {
       "output_type": "stream",
       "stream": "stdout",
       "text": [
        "10\n"
       ]
      }
     ],
     "prompt_number": 32
    },
    {
     "cell_type": "markdown",
     "metadata": {},
     "source": [
      "Lifetime\n",
      "--------\n",
      "\n",
      "Variables (and the values they reference) \"Die\" when the function they are defined in exits."
     ]
    },
    {
     "cell_type": "code",
     "collapsed": false,
     "input": [
      "def lifetime_function():\n",
      "    n = 1\n",
      "    n += 1\n",
      "    print(n)\n",
      "\n",
      "lifetime_function()\n",
      "lifetime_function()\n",
      "print(n)"
     ],
     "language": "python",
     "metadata": {},
     "outputs": [
      {
       "ename": "NameError",
       "evalue": "name 'n' is not defined",
       "output_type": "pyerr",
       "traceback": [
        "\u001b[0;31m---------------------------------------------------------------------------\u001b[0m\n\u001b[0;31mNameError\u001b[0m                                 Traceback (most recent call last)",
        "\u001b[0;32m<ipython-input-34-93a1b090c9d4>\u001b[0m in \u001b[0;36m<module>\u001b[0;34m()\u001b[0m\n\u001b[1;32m      6\u001b[0m \u001b[0mlifetime_function\u001b[0m\u001b[0;34m(\u001b[0m\u001b[0;34m)\u001b[0m\u001b[0;34m\u001b[0m\u001b[0m\n\u001b[1;32m      7\u001b[0m \u001b[0mlifetime_function\u001b[0m\u001b[0;34m(\u001b[0m\u001b[0;34m)\u001b[0m\u001b[0;34m\u001b[0m\u001b[0m\n\u001b[0;32m----> 8\u001b[0;31m \u001b[0mprint\u001b[0m\u001b[0;34m(\u001b[0m\u001b[0mn\u001b[0m\u001b[0;34m)\u001b[0m\u001b[0;34m\u001b[0m\u001b[0m\n\u001b[0m",
        "\u001b[0;31mNameError\u001b[0m: name 'n' is not defined"
       ]
      },
      {
       "output_type": "stream",
       "stream": "stdout",
       "text": [
        "2\n",
        "2\n"
       ]
      }
     ],
     "prompt_number": 34
    },
    {
     "cell_type": "code",
     "collapsed": false,
     "input": [
      "def longval_function(val1, arg1=[]):\n",
      "    arg1.append(val1)\n",
      "    \n",
      "    print(arg1)\n",
      "\n",
      "longval_function(1)\n",
      "longval_function(2)\n",
      "longval_function(3)\n",
      "longval_function(4)"
     ],
     "language": "python",
     "metadata": {},
     "outputs": [
      {
       "output_type": "stream",
       "stream": "stdout",
       "text": [
        "[1]\n",
        "[1, 2]\n",
        "[1, 2, 3]\n",
        "[1, 2, 3, 4]\n"
       ]
      }
     ],
     "prompt_number": 35
    },
    {
     "cell_type": "code",
     "collapsed": false,
     "input": [
      "def shortval_function(val1, arg1=5):\n",
      "    arg1 += val1\n",
      "    print(arg1)\n",
      "\n",
      "shortval_function(1)\n",
      "shortval_function(2)\n",
      "shortval_function(3)\n",
      "shortval_function(4)"
     ],
     "language": "python",
     "metadata": {},
     "outputs": [
      {
       "output_type": "stream",
       "stream": "stdout",
       "text": [
        "6\n",
        "7\n",
        "8\n",
        "9\n"
       ]
      }
     ],
     "prompt_number": 38
    },
    {
     "cell_type": "code",
     "collapsed": false,
     "input": [
      "with open('somefile.txt') as my_file:\n",
      "    my_data = my_file.read()\n",
      "print(my_data)"
     ],
     "language": "python",
     "metadata": {},
     "outputs": []
    }
   ],
   "metadata": {}
  }
 ]
}