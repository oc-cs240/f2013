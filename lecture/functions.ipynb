{
 "metadata": {
  "name": ""
 },
 "nbformat": 3,
 "nbformat_minor": 0,
 "worksheets": [
  {
   "cells": [
    {
     "cell_type": "code",
     "collapsed": false,
     "input": [
      "from math import pi\n",
      "\n",
      "unit_circle_area = pi * 0.5 ** 2\n",
      "\n",
      "def evaluate_poker_hand5(hand):\n",
      "    pass\n",
      "\n",
      "def evaluate_poker_hand7(hand):\n",
      "    for hand5 in hand:\n",
      "        rank = evaluate_poker_hand5(hand5)\n",
      "        # find best rank\n",
      "\n",
      "strength1 = evaluate_poker_hand(hand1)\n",
      "for hand in hands5:\n",
      "    strength = evaluate_poker_hand(hand)\n",
      "    # Do something with strength values\n"
     ],
     "language": "python",
     "metadata": {},
     "outputs": []
    },
    {
     "cell_type": "markdown",
     "metadata": {},
     "source": [
      "More on defining functions\n",
      "--------------------------\n",
      "\n",
      "### Named arguments\n",
      "\n",
      "```\n",
      "def some_function(arg1, arg2, arg3):\n",
      "    print(arg1, arg2, arg3)\n",
      "\n",
      "some_function(1, 2, 3)  # prints 1 2 3\n",
      "some_function(arg2=4, arg3=10, arg1=5)  # prints 5 4 10\n",
      "some_function(1, 2)  # Throws an error\n",
      "```\n",
      "\n",
      "### Optional arguments\n",
      "\n",
      "```\n",
      "def some_function2(arg1, arg2, arg3=None):\n",
      "    print(arg1, arg2, arg3)\n",
      "\n",
      "some_function2(1, 2)  # prints 1 2 None\n",
      "\n",
      "def some_function3(arg1=1, arg2=2, arg3=None):\n",
      "    print(arg1, arg2, arg3)\n",
      "\n",
      "some_function3(10)          # prints 10 2 None\n",
      "some_function3(10, 20)      # prints 10 20 None\n",
      "some_function3(10, 20, 30)  # prints 10 20 30\n",
      "some_function3(arg3=50)     # prints 1 2 50\n",
      "some_function3(10, arg3=50) # prints 10 2 50\n",
      "some_function3(arg3=50, 10) # ERROR!! positional argument after named argument\n",
      "\n",
      "```"
     ]
    },
    {
     "cell_type": "code",
     "collapsed": false,
     "input": [
      "def some_function3(arg1=1, arg2=2, arg3=None):\n",
      "    print(arg1, arg2, arg3)\n",
      "\n",
      "some_function3(arg3=50, arg1=10)"
     ],
     "language": "python",
     "metadata": {},
     "outputs": [
      {
       "output_type": "stream",
       "stream": "stdout",
       "text": [
        "10 2 50\n"
       ]
      }
     ],
     "prompt_number": 3
    },
    {
     "cell_type": "markdown",
     "metadata": {},
     "source": [
      "### Beware using mutables as default values"
     ]
    },
    {
     "cell_type": "code",
     "collapsed": false,
     "input": [
      "def some_function4(arg1, arg2, arg3=['a', 'b', 'c']):\n",
      "    print(arg3)\n",
      "    print(arg1, arg3[2])\n",
      "    arg3[2] = 5\n",
      "\n",
      "some_function4(1, 2)\n",
      "some_function4(1, 2)\n",
      "\n",
      "\n",
      "# More properly\n",
      "print()\n",
      "def some_function5(arg1, arg2, arg3=None):\n",
      "    if arg3 is None:\n",
      "        arg3 = ['a', 'b', 'c']\n",
      "    print(arg1, arg3[2])\n",
      "    arg3[2] = 5\n",
      "\n",
      "some_function5(1, 2)\n",
      "some_function5(1, 2)\n",
      "\n",
      "\n",
      "# This is fine\n",
      "def some_function6(arg1, arg2, arg3='Invalid hand'):\n",
      "    pass\n"
     ],
     "language": "python",
     "metadata": {},
     "outputs": [
      {
       "output_type": "stream",
       "stream": "stdout",
       "text": [
        "['a', 'b', 'c']\n",
        "1 c\n",
        "['a', 'b', 5]\n",
        "1 5\n",
        "\n",
        "1 c\n",
        "1 c\n"
       ]
      }
     ],
     "prompt_number": 8
    }
   ],
   "metadata": {}
  }
 ]
}