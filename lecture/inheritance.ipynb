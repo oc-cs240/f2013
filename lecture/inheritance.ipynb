{
 "metadata": {
  "name": ""
 },
 "nbformat": 3,
 "nbformat_minor": 0,
 "worksheets": [
  {
   "cells": [
    {
     "cell_type": "markdown",
     "metadata": {},
     "source": [
      "Inheritance\n",
      "===========\n",
      "\n",
      "An example using the Olivet College demographic, and classes."
     ]
    },
    {
     "cell_type": "code",
     "collapsed": false,
     "input": [
      "class Olivetian(object):\n",
      "    def __init__(self, last_name, first_name, id, email):\n",
      "        self.last_name = last_name\n",
      "        self.first_name = first_name\n",
      "        self.id = id\n",
      "        self.email = email\n",
      "\n",
      "    def __str__(self):\n",
      "        # These work, but aren't 100% desirable for one reason or another\n",
      "        # return '{0} {1}, ID: {2}, email: {3}'.format(self.first_name, self.last_name, self.id, self.email)\n",
      "        # return '{first} {last}, ID: {id}, email: {email}'.format(last=self.last_name, first=self.first_name, email=self.email, id=self.id)\n",
      "        # return '{first_name} {last_name}, ID: {id}, email: {email}'.format(**self.__dict__)\n",
      "\n",
      "        # This is preferred because it is short and clear\n",
      "        return '{0.first_name} {0.last_name}, ID: {0.id}, email: {0.email}'.format(self)\n",
      "\n",
      "\n",
      "# Blank for now, but created\n",
      "class Student(Olivetian):\n",
      "    pass\n",
      "\n",
      "\n",
      "class Faculty(Olivetian):\n",
      "    pass\n",
      "\n",
      "\n",
      "class Staff(Olivetian):\n",
      "    pass\n",
      "\n",
      "\n",
      "s1 = Student('College', 'Olive T.', 1, 'ocollege@olivetcollege.edu')\n",
      "s2 = Student('User', 'Test', 2, 'testu@olivetcollege.edu')\n",
      "\n",
      "print(s1)\n",
      "print(s2)\n"
     ],
     "language": "python",
     "metadata": {},
     "outputs": [
      {
       "output_type": "stream",
       "stream": "stdout",
       "text": [
        "Olive T. College, ID: 1, email: ocollege@olivetcollege.edu\n",
        "Test User, ID: 2, email: testu@olivetcollege.edu\n"
       ]
      }
     ],
     "prompt_number": 1
    },
    {
     "cell_type": "code",
     "collapsed": false,
     "input": [
      "print(dir(s1))\n",
      "print(type(s1))"
     ],
     "language": "python",
     "metadata": {},
     "outputs": [
      {
       "output_type": "stream",
       "stream": "stdout",
       "text": [
        "['__class__', '__delattr__', '__dict__', '__dir__', '__doc__', '__eq__', '__format__', '__ge__', '__getattribute__', '__gt__', '__hash__', '__init__', '__le__', '__lt__', '__module__', '__ne__', '__new__', '__qualname__', '__reduce__', '__reduce_ex__', '__repr__', '__setattr__', '__sizeof__', '__str__', '__subclasshook__', '__weakref__', 'email', 'first_name', 'id', 'last_name']\n",
        "<class '__main__.Student'>\n"
       ]
      }
     ],
     "prompt_number": 2
    },
    {
     "cell_type": "code",
     "collapsed": false,
     "input": [
      "f1 = Faculty('Professor', 'Anne', 10, 'aprofessor@olivetcollege.edu')\n",
      "f2 = Faculty('Scientist', 'Computer', 11, 'computer.scientist@cs.olivetcollege.edu')\n",
      "\n",
      "print(f1)\n",
      "print(f2)\n",
      "\n",
      "print(dir(f1))\n",
      "print(type(f1))\n",
      "print(isinstance(f1, Faculty))"
     ],
     "language": "python",
     "metadata": {},
     "outputs": [
      {
       "output_type": "stream",
       "stream": "stdout",
       "text": [
        "Anne Professor, ID: 10, email: aprofessor@olivetcollege.edu\n",
        "Computer Scientist, ID: 11, email: computer.scientist@cs.olivetcollege.edu\n",
        "['__class__', '__delattr__', '__dict__', '__dir__', '__doc__', '__eq__', '__format__', '__ge__', '__getattribute__', '__gt__', '__hash__', '__init__', '__le__', '__lt__', '__module__', '__ne__', '__new__', '__qualname__', '__reduce__', '__reduce_ex__', '__repr__', '__setattr__', '__sizeof__', '__str__', '__subclasshook__', '__weakref__', 'email', 'first_name', 'id', 'last_name']\n",
        "<class '__main__.Faculty'>\n",
        "True\n"
       ]
      }
     ],
     "prompt_number": 3
    },
    {
     "cell_type": "code",
     "collapsed": false,
     "input": [
      "print(isinstance(s1, Student))\n",
      "print(isinstance(s2, Faculty))\n"
     ],
     "language": "python",
     "metadata": {},
     "outputs": [
      {
       "output_type": "stream",
       "stream": "stdout",
       "text": [
        "True\n",
        "False\n"
       ]
      }
     ],
     "prompt_number": 4
    },
    {
     "cell_type": "code",
     "collapsed": false,
     "input": [
      "print(isinstance(s2, Olivetian))\n",
      "print(isinstance(f2, Olivetian))\n"
     ],
     "language": "python",
     "metadata": {},
     "outputs": [
      {
       "output_type": "stream",
       "stream": "stdout",
       "text": [
        "True\n",
        "True\n"
       ]
      }
     ],
     "prompt_number": 5
    },
    {
     "cell_type": "code",
     "collapsed": false,
     "input": [
      "# Let's expand some of the classes that we use!\n",
      "class Student(Olivetian):\n",
      "    # GPA\n",
      "    # Standing\n",
      "    # Major\n",
      "    def __init__(self, last_name, first_name, id, email, gpa, standing, major):\n",
      "        Olivetian.__init__(self, last_name, first_name, id, email)\n",
      "        self.gpa = gpa\n",
      "        self.standing = standing\n",
      "        self.major = major\n",
      "    \n",
      "    def __str__(self):\n",
      "        return 'Student ID: {0.id} Name: {0.last_name}, {0.first_name} GPA: {0.gpa}'.format(self)\n",
      "\n",
      "        \n",
      "s3 = Student('Reader', 'Book', 3, 'breader@olivetcollege', 3.5, 'Senior', 'Journalism')\n",
      "print(dir(s3))\n",
      "print(s3)\n",
      "\n",
      "\n",
      "class Faculty(Olivetian):\n",
      "    # Department\n",
      "    # Rank\n",
      "    def __init__(self, last_name, first_name, id, email, department, rank):\n",
      "        Olivetian.__init__(self, last_name, first_name, id, email)\n",
      "        self.department = department\n",
      "        self.rank = rank\n",
      "    \n",
      "    def __str__(self):\n",
      "        return 'Prof. ' + Olivetian.__str__(self)\n",
      "\n",
      "f3 = Faculty('Artist', 'Thea', 13, 'tartist@olivetcollege.edu', 'Visual Arts', 'Assistant')\n",
      "print(f3)\n"
     ],
     "language": "python",
     "metadata": {},
     "outputs": [
      {
       "output_type": "stream",
       "stream": "stdout",
       "text": [
        "['__class__', '__delattr__', '__dict__', '__dir__', '__doc__', '__eq__', '__format__', '__ge__', '__getattribute__', '__gt__', '__hash__', '__init__', '__le__', '__lt__', '__module__', '__ne__', '__new__', '__qualname__', '__reduce__', '__reduce_ex__', '__repr__', '__setattr__', '__sizeof__', '__str__', '__subclasshook__', '__weakref__', 'email', 'first_name', 'gpa', 'id', 'last_name', 'major', 'standing']\n",
        "Student ID: 3 Name: Reader, Book GPA: 3.5\n",
        "Prof. Thea Artist, ID: 13, email: tartist@olivetcollege.edu\n"
       ]
      }
     ],
     "prompt_number": 10
    },
    {
     "cell_type": "markdown",
     "metadata": {},
     "source": [
      "Inheritance Using Types\n",
      "=======================\n",
      "\n",
      "Classes can also inherit from built-in types, just as other classes."
     ]
    },
    {
     "cell_type": "code",
     "collapsed": false,
     "input": [
      "from random import shuffle\n",
      "\n",
      "class Deck(list):\n",
      "    def __init__(self):\n",
      "        self.extend(range(52))\n",
      "\n",
      "    def shuffle(self):\n",
      "        shuffle(self)\n",
      "    \n",
      "\n",
      "d = Deck()\n",
      "print(dir(d))\n",
      "print(d)\n",
      "d.shuffle()\n",
      "print(d)\n"
     ],
     "language": "python",
     "metadata": {},
     "outputs": [
      {
       "output_type": "stream",
       "stream": "stdout",
       "text": [
        "['__add__', '__class__', '__contains__', '__delattr__', '__delitem__', '__dict__', '__dir__', '__doc__', '__eq__', '__format__', '__ge__', '__getattribute__', '__getitem__', '__gt__', '__hash__', '__iadd__', '__imul__', '__init__', '__iter__', '__le__', '__len__', '__lt__', '__module__', '__mul__', '__ne__', '__new__', '__qualname__', '__reduce__', '__reduce_ex__', '__repr__', '__reversed__', '__rmul__', '__setattr__', '__setitem__', '__sizeof__', '__str__', '__subclasshook__', '__weakref__', 'append', 'clear', 'copy', 'count', 'extend', 'index', 'insert', 'pop', 'remove', 'reverse', 'shuffle', 'sort']\n",
        "[0, 1, 2, 3, 4, 5, 6, 7, 8, 9, 10, 11, 12, 13, 14, 15, 16, 17, 18, 19, 20, 21, 22, 23, 24, 25, 26, 27, 28, 29, 30, 31, 32, 33, 34, 35, 36, 37, 38, 39, 40, 41, 42, 43, 44, 45, 46, 47, 48, 49, 50, 51]\n",
        "[45, 0, 17, 4, 43, 39, 18, 16, 26, 44, 8, 49, 30, 36, 11, 5, 12, 48, 14, 20, 22, 3, 24, 9, 2, 32, 21, 46, 51, 19, 40, 7, 31, 28, 1, 35, 41, 25, 38, 6, 15, 34, 27, 33, 42, 13, 47, 50, 10, 23, 29, 37]\n"
       ]
      }
     ],
     "prompt_number": 15
    },
    {
     "cell_type": "code",
     "collapsed": false,
     "input": [
      "len(d)"
     ],
     "language": "python",
     "metadata": {},
     "outputs": [
      {
       "metadata": {},
       "output_type": "pyout",
       "prompt_number": 13,
       "text": [
        "4"
       ]
      }
     ],
     "prompt_number": 13
    },
    {
     "cell_type": "code",
     "collapsed": false,
     "input": [
      "d.clear()\n",
      "print(d)"
     ],
     "language": "python",
     "metadata": {},
     "outputs": [
      {
       "output_type": "stream",
       "stream": "stdout",
       "text": [
        "[]\n"
       ]
      }
     ],
     "prompt_number": 14
    }
   ],
   "metadata": {}
  }
 ]
}