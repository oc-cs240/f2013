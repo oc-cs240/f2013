{
 "metadata": {
  "name": ""
 },
 "nbformat": 3,
 "nbformat_minor": 0,
 "worksheets": [
  {
   "cells": [
    {
     "cell_type": "markdown",
     "metadata": {},
     "source": [
      "Object-Oriented Programming - Polymorphism\n",
      "==========================================\n",
      "\n",
      "Operator Overloading\n",
      "--------------------\n",
      "\n",
      "Python uses `__` (dunder) functions to define how operators work.  See table 12.1 for a partial listing.\n",
      "\n",
      "Arithmetic\n",
      "    x + Y    __add__(self, other)\n",
      "    x - y    __sub__(self, other)\n",
      "    ...\n",
      "\n",
      "Comparison\n",
      "    x == y   __eq__(self, other)\n",
      "    x > y    __gt__(self, other)\n",
      "    ...\n",
      "    \n",
      "Other\n",
      "    len(x)    __len__(self)\n",
      "    x in y    __contains__(self, other)\n",
      "    ...\n",
      "\n",
      "\n",
      "### Examples\n",
      "\n",
      "class Hand():\n",
      "    ...\n",
      "    def __gt__(self, other):\n",
      "        \"\"\"Compare the current hand to the offered 'other' hand, and return true is current hand is better.\"\"\"\n",
      "        # Are self.cards better than other.cards\n",
      "        pass\n",
      "\n",
      "    def is_better_than(self, other):\n",
      "        \"\"\"Compare the current hand to the offered 'other' hand, and return true is current hand is better.\"\"\"\n",
      "        # Are self.cards better than other.cards\n",
      "        pass\n",
      "\n",
      "h1 = Hand()\n",
      "h2 = Hand()\n",
      "\n",
      "if h1 > h2:\n",
      "    print 'The player with Hand #1 wins!'\n",
      "\n",
      "if h1.is_better_than(h2):\n",
      "    print 'Same as above'"
     ]
    },
    {
     "cell_type": "code",
     "collapsed": false,
     "input": [
      "c1 = '8D'\n",
      "\n",
      "class Hand1(object):\n",
      "    def __init__(self):\n",
      "        self.max_num_cards = 5\n",
      "        self.cards = []\n",
      "\n",
      "    def __repr__(self):\n",
      "        return str(self.cards)\n",
      "\n",
      "    # This function seems wrong, even though it works\n",
      "    def __add__(self, card):\n",
      "        if len(self.cards) < self.max_num_cards:\n",
      "            new_hand = Hand1()\n",
      "            new_hand.cards.extend(self.cards)\n",
      "            new_hand.cards.append(card)\n",
      "            return new_hand\n",
      "\n",
      "            self.cards.append(card)\n",
      "            return self\n",
      "        else:\n",
      "            return self\n",
      "    \n",
      "    def __contains__(self, card):\n",
      "        return card in self.cards\n",
      "        \n",
      "\n",
      "h1 = Hand1()\n",
      "h1 = h1 + c1\n",
      "ha = h1 + c1\n",
      "print('H1:', h1)\n",
      "print('HA:', ha)\n",
      "\n",
      "class Hand2(list):\n",
      "    pass\n",
      "\n",
      "h2 = Hand2()\n",
      "h2.append(c1)\n",
      "print('H2:', h2)"
     ],
     "language": "python",
     "metadata": {},
     "outputs": [
      {
       "output_type": "stream",
       "stream": "stdout",
       "text": [
        "H1: ['8D']\n",
        "HA: ['8D', '8D']\n",
        "H2: ['8D']\n"
       ]
      }
     ],
     "prompt_number": 7
    },
    {
     "cell_type": "code",
     "collapsed": false,
     "input": [
      "'8D' in h2"
     ],
     "language": "python",
     "metadata": {},
     "outputs": [
      {
       "metadata": {},
       "output_type": "pyout",
       "prompt_number": 4,
       "text": [
        "True"
       ]
      }
     ],
     "prompt_number": 4
    },
    {
     "cell_type": "code",
     "collapsed": false,
     "input": [
      "'8D' in h1"
     ],
     "language": "python",
     "metadata": {},
     "outputs": [
      {
       "metadata": {},
       "output_type": "pyout",
       "prompt_number": 8,
       "text": [
        "True"
       ]
      }
     ],
     "prompt_number": 8
    },
    {
     "cell_type": "code",
     "collapsed": false,
     "input": [
      "print(dir(h1))\n",
      "print(dir(h2))"
     ],
     "language": "python",
     "metadata": {},
     "outputs": [
      {
       "output_type": "stream",
       "stream": "stdout",
       "text": [
        "['__add__', '__class__', '__contains__', '__delattr__', '__dict__', '__dir__', '__doc__', '__eq__', '__format__', '__ge__', '__getattribute__', '__gt__', '__hash__', '__init__', '__le__', '__lt__', '__module__', '__ne__', '__new__', '__qualname__', '__reduce__', '__reduce_ex__', '__repr__', '__setattr__', '__sizeof__', '__str__', '__subclasshook__', '__weakref__', 'cards', 'max_num_cards']\n",
        "['__add__', '__class__', '__contains__', '__delattr__', '__delitem__', '__dict__', '__dir__', '__doc__', '__eq__', '__format__', '__ge__', '__getattribute__', '__getitem__', '__gt__', '__hash__', '__iadd__', '__imul__', '__init__', '__iter__', '__le__', '__len__', '__lt__', '__module__', '__mul__', '__ne__', '__new__', '__qualname__', '__reduce__', '__reduce_ex__', '__repr__', '__reversed__', '__rmul__', '__setattr__', '__setitem__', '__sizeof__', '__str__', '__subclasshook__', '__weakref__', 'append', 'clear', 'copy', 'count', 'extend', 'index', 'insert', 'pop', 'remove', 'reverse', 'sort']\n"
       ]
      }
     ],
     "prompt_number": 9
    },
    {
     "cell_type": "code",
     "collapsed": false,
     "input": [
      "class Fraction(object):\n",
      "    def __init__(self, num, den):\n",
      "        self.num = num\n",
      "        self.den = den\n",
      "\n",
      "        \n",
      "class Complex(object):\n",
      "    def __init__(self, re, im):\n",
      "        self.re = re\n",
      "        self.im = im\n",
      "\n",
      "\n",
      "# Both of these lend themselves well to overloading arithmetic\n",
      "\"\"\"\n",
      "    def __add__(self, other):\n",
      "    def __sub__(self, other):\n",
      "    def __mul__(self, other):\n",
      "    def __div__(self, other):\n",
      "\"\"\"\n",
      "\n",
      "class Waypoint(object):\n",
      "    def __init__(self, latitude, longitude):\n",
      "        self.latitude = latitude\n",
      "        self.longitude = longitude\n",
      "    \n",
      "    # Some arithmetic overloading may make sense\n",
      "    def __add__(self, point2):\n",
      "        distance = 0\n",
      "        # do some math to calculate distance\n",
      "        return distance\n"
     ],
     "language": "python",
     "metadata": {},
     "outputs": []
    }
   ],
   "metadata": {}
  }
 ]
}