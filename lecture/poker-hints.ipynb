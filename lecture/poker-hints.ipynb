{
 "metadata": {
  "name": ""
 },
 "nbformat": 3,
 "nbformat_minor": 0,
 "worksheets": [
  {
   "cells": [
    {
     "cell_type": "markdown",
     "metadata": {},
     "source": [
      "Help with Poker\n",
      "===============\n",
      "\n",
      "Trying to solve the 5-card hand from 7 cards issue, we need help with combinations. Enter the itertools module from the standard library.\n"
     ]
    },
    {
     "cell_type": "code",
     "collapsed": false,
     "input": [
      "import itertools\n",
      "from random import shuffle\n",
      "\n",
      "# Use list comprenhension to create a deck!\n",
      "deck = [(face, suit) for face in range(1, 14) for suit in range(4)]\n",
      "print('Unshuffled 52-card deck')\n",
      "print(deck)\n",
      "shuffle(deck)\n",
      "print('Shuffled deck:')\n",
      "print(deck)\n",
      "\n",
      "hand7 = deck[:7]\n",
      "print('7-card hand:')\n",
      "print(hand7)"
     ],
     "language": "python",
     "metadata": {},
     "outputs": [
      {
       "output_type": "stream",
       "stream": "stdout",
       "text": [
        "Unshuffled 52-card deck\n",
        "[(1, 0), (1, 1), (1, 2), (1, 3), (2, 0), (2, 1), (2, 2), (2, 3), (3, 0), (3, 1), (3, 2), (3, 3), (4, 0), (4, 1), (4, 2), (4, 3), (5, 0), (5, 1), (5, 2), (5, 3), (6, 0), (6, 1), (6, 2), (6, 3), (7, 0), (7, 1), (7, 2), (7, 3), (8, 0), (8, 1), (8, 2), (8, 3), (9, 0), (9, 1), (9, 2), (9, 3), (10, 0), (10, 1), (10, 2), (10, 3), (11, 0), (11, 1), (11, 2), (11, 3), (12, 0), (12, 1), (12, 2), (12, 3), (13, 0), (13, 1), (13, 2), (13, 3)]\n",
        "Shuffled deck:\n",
        "[(13, 1), (5, 0), (5, 3), (9, 1), (9, 0), (2, 0), (4, 2), (11, 0), (10, 3), (9, 3), (9, 2), (13, 2), (7, 1), (6, 3), (6, 0), (11, 3), (5, 1), (4, 3), (12, 1), (8, 3), (1, 2), (1, 0), (12, 2), (6, 1), (1, 1), (7, 0), (13, 3), (12, 3), (13, 0), (2, 1), (11, 2), (8, 0), (10, 1), (8, 1), (11, 1), (4, 0), (3, 2), (3, 1), (7, 3), (7, 2), (5, 2), (4, 1), (8, 2), (6, 2), (2, 2), (3, 3), (1, 3), (3, 0), (10, 0), (12, 0), (10, 2), (2, 3)]\n",
        "7-card hand:\n",
        "[(13, 1), (5, 0), (5, 3), (9, 1), (9, 0), (2, 0), (4, 2)]\n"
       ]
      }
     ],
     "prompt_number": 11
    },
    {
     "cell_type": "code",
     "collapsed": false,
     "input": [
      "hands = list(itertools.combinations(hand7, 5))\n",
      "print('{0} 5-card hands:'.format(len(hands)))\n",
      "print(hands)"
     ],
     "language": "python",
     "metadata": {},
     "outputs": [
      {
       "output_type": "stream",
       "stream": "stdout",
       "text": [
        "21 5-card hands:\n",
        "[((13, 1), (5, 0), (5, 3), (9, 1), (9, 0)), ((13, 1), (5, 0), (5, 3), (9, 1), (2, 0)), ((13, 1), (5, 0), (5, 3), (9, 1), (4, 2)), ((13, 1), (5, 0), (5, 3), (9, 0), (2, 0)), ((13, 1), (5, 0), (5, 3), (9, 0), (4, 2)), ((13, 1), (5, 0), (5, 3), (2, 0), (4, 2)), ((13, 1), (5, 0), (9, 1), (9, 0), (2, 0)), ((13, 1), (5, 0), (9, 1), (9, 0), (4, 2)), ((13, 1), (5, 0), (9, 1), (2, 0), (4, 2)), ((13, 1), (5, 0), (9, 0), (2, 0), (4, 2)), ((13, 1), (5, 3), (9, 1), (9, 0), (2, 0)), ((13, 1), (5, 3), (9, 1), (9, 0), (4, 2)), ((13, 1), (5, 3), (9, 1), (2, 0), (4, 2)), ((13, 1), (5, 3), (9, 0), (2, 0), (4, 2)), ((13, 1), (9, 1), (9, 0), (2, 0), (4, 2)), ((5, 0), (5, 3), (9, 1), (9, 0), (2, 0)), ((5, 0), (5, 3), (9, 1), (9, 0), (4, 2)), ((5, 0), (5, 3), (9, 1), (2, 0), (4, 2)), ((5, 0), (5, 3), (9, 0), (2, 0), (4, 2)), ((5, 0), (9, 1), (9, 0), (2, 0), (4, 2)), ((5, 3), (9, 1), (9, 0), (2, 0), (4, 2))]\n"
       ]
      }
     ],
     "prompt_number": 12
    },
    {
     "cell_type": "code",
     "collapsed": false,
     "input": [
      "def evaluate_hand(hand):\n",
      "    print('Evaluate hand:', hand)\n",
      "    return 0\n",
      "\n",
      "scores = [evaluate_hand(hand5) for hand5 in hands]\n",
      "scores.sort()\n",
      "print(scores[-1])"
     ],
     "language": "python",
     "metadata": {},
     "outputs": [
      {
       "output_type": "stream",
       "stream": "stdout",
       "text": [
        "Evaluate hand: ((13, 1), (5, 0), (5, 3), (9, 1), (9, 0))\n",
        "Evaluate hand: ((13, 1), (5, 0), (5, 3), (9, 1), (2, 0))\n",
        "Evaluate hand: ((13, 1), (5, 0), (5, 3), (9, 1), (4, 2))\n",
        "Evaluate hand: ((13, 1), (5, 0), (5, 3), (9, 0), (2, 0))\n",
        "Evaluate hand: ((13, 1), (5, 0), (5, 3), (9, 0), (4, 2))\n",
        "Evaluate hand: ((13, 1), (5, 0), (5, 3), (2, 0), (4, 2))\n",
        "Evaluate hand: ((13, 1), (5, 0), (9, 1), (9, 0), (2, 0))\n",
        "Evaluate hand: ((13, 1), (5, 0), (9, 1), (9, 0), (4, 2))\n",
        "Evaluate hand: ((13, 1), (5, 0), (9, 1), (2, 0), (4, 2))\n",
        "Evaluate hand: ((13, 1), (5, 0), (9, 0), (2, 0), (4, 2))\n",
        "Evaluate hand: ((13, 1), (5, 3), (9, 1), (9, 0), (2, 0))\n",
        "Evaluate hand: ((13, 1), (5, 3), (9, 1), (9, 0), (4, 2))\n",
        "Evaluate hand: ((13, 1), (5, 3), (9, 1), (2, 0), (4, 2))\n",
        "Evaluate hand: ((13, 1), (5, 3), (9, 0), (2, 0), (4, 2))\n",
        "Evaluate hand: ((13, 1), (9, 1), (9, 0), (2, 0), (4, 2))\n",
        "Evaluate hand: ((5, 0), (5, 3), (9, 1), (9, 0), (2, 0))\n",
        "Evaluate hand: ((5, 0), (5, 3), (9, 1), (9, 0), (4, 2))\n",
        "Evaluate hand: ((5, 0), (5, 3), (9, 1), (2, 0), (4, 2))\n",
        "Evaluate hand: ((5, 0), (5, 3), (9, 0), (2, 0), (4, 2))\n",
        "Evaluate hand: ((5, 0), (9, 1), (9, 0), (2, 0), (4, 2))\n",
        "Evaluate hand: ((5, 3), (9, 1), (9, 0), (2, 0), (4, 2))\n",
        "0\n"
       ]
      }
     ],
     "prompt_number": 14
    },
    {
     "cell_type": "code",
     "collapsed": false,
     "input": [],
     "language": "python",
     "metadata": {},
     "outputs": []
    }
   ],
   "metadata": {}
  }
 ]
}