{
 "metadata": {
  "name": ""
 },
 "nbformat": 3,
 "nbformat_minor": 0,
 "worksheets": [
  {
   "cells": [
    {
     "cell_type": "markdown",
     "metadata": {},
     "source": [
      "Doing Things Pythonically\n",
      "========================="
     ]
    },
    {
     "cell_type": "markdown",
     "metadata": {},
     "source": [
      "Why is there no case statement?\n",
      "-------------------------------\n",
      "\n",
      "In python, it is more common to use a dictionary for this."
     ]
    },
    {
     "cell_type": "code",
     "collapsed": false,
     "input": [
      "strengthInt = 3\n",
      "\n",
      "if strengthInt == 9:\n",
      "    newVal = 'Royal Flush'\n",
      "elif strengthInt == 8:\n",
      "    newVal = 'Straight Flush'\n",
      "elif strengthInt == 7:\n",
      "    newVal = 'Four of a Kind'\n",
      "elif strengthInt == 6:\n",
      "    newVal = 'Full House'\n",
      "elif strengthInt == 5:\n",
      "    newVal = 'Flush'\n",
      "elif strengthInt == 4:\n",
      "    newVal = 'Straight'\n",
      "elif strengthInt == 3:\n",
      "    newVal = 'Three of a Kind'\n",
      "elif strengthInt == 2:\n",
      "    newVal = 'Two Pairs'\n",
      "elif strengthInt == 1:\n",
      "    newVal = 'One Pair'\n",
      "\n",
      "print('Semi-colon style')\n",
      "print(newVal)\n",
      "\n",
      "# Instead, use a dictionary\n",
      "descriptions = {9: 'Royal Flush',\n",
      "                8: 'Straight Flush',\n",
      "                7: 'Four of a Kind',\n",
      "                6: 'Full House',\n",
      "                5: 'Flush',\n",
      "                4: 'Straight',\n",
      "                3: 'Three of a Kind',\n",
      "                2: 'Two Pairs',\n",
      "                1: 'One Pair',\n",
      "                0: 'Nothing'}\n",
      "print('Pythonically')\n",
      "print(descriptions[3])\n",
      "\n",
      "# When a dictionary might not exist\n",
      "print()\n",
      "print('No key in dictionary')\n",
      "strengthInt = 42\n",
      "\n",
      "# Old school - good\n",
      "if strengthInt in descriptions.keys():\n",
      "    print(descriptions[strengthInt])\n",
      "else:\n",
      "    print('Invalid hand')\n",
      "\n",
      "# Using exceptions - better\n",
      "try:\n",
      "    print(descriptions[strengthInt])\n",
      "except KeyError:\n",
      "    print('Invalid hand')\n",
      "    \n",
      "# Preferred missing key method is to use {}.get() - best\n",
      "print(descriptions.get(strengthInt, 'Invalid hand'))"
     ],
     "language": "python",
     "metadata": {},
     "outputs": [
      {
       "output_type": "stream",
       "stream": "stdout",
       "text": [
        "Semi-colon style\n",
        "Three of a Kind\n",
        "Pythonically\n",
        "Three of a Kind\n",
        "\n",
        "No key in dictionary\n",
        "Invalid hand\n",
        "Invalid hand\n",
        "Invalid hand\n"
       ]
      }
     ],
     "prompt_number": 16
    },
    {
     "cell_type": "code",
     "collapsed": false,
     "input": [
      "# Getting help in ipython\n",
      "dict.get?"
     ],
     "language": "python",
     "metadata": {},
     "outputs": [],
     "prompt_number": 17
    },
    {
     "cell_type": "markdown",
     "metadata": {},
     "source": [
      "Module Runner\n",
      "-------------"
     ]
    },
    {
     "cell_type": "code",
     "collapsed": false,
     "input": [
      "def function():  # Called by main() or another function or when imported\n",
      "    pass\n",
      "\n",
      "def other_function():  # Called by main() or another function or when imported\n",
      "    pass\n",
      "\n",
      "def main():  # Does all work when this module is launched\n",
      "    pass\n",
      "\n",
      "# A basic module runner that calls main() only when this program is launched\n",
      "if __name__ == '__main__':\n",
      "    main()  # defined above"
     ],
     "language": "python",
     "metadata": {},
     "outputs": []
    }
   ],
   "metadata": {}
  }
 ]
}