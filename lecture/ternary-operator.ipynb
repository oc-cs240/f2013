{
 "metadata": {
  "name": ""
 },
 "nbformat": 3,
 "nbformat_minor": 0,
 "worksheets": [
  {
   "cells": [
    {
     "cell_type": "markdown",
     "metadata": {},
     "source": [
      "The Ternary Operator\n",
      "====================\n",
      "\n",
      "A simple if-else that behaves inline.\n"
     ]
    },
    {
     "cell_type": "code",
     "collapsed": false,
     "input": [
      "a = 5\n",
      "b = 10 if a < 5 else 5\n",
      "{'a': a, 'b': b}"
     ],
     "language": "python",
     "metadata": {},
     "outputs": [
      {
       "metadata": {},
       "output_type": "pyout",
       "prompt_number": 3,
       "text": [
        "{'a': 5, 'b': 5}"
       ]
      }
     ],
     "prompt_number": 3
    },
    {
     "cell_type": "markdown",
     "metadata": {},
     "source": [
      "Similar to the behavior of filtering in list comprehension."
     ]
    },
    {
     "cell_type": "code",
     "collapsed": false,
     "input": [
      "alist = list(range(10))\n",
      "odds = [item for item in alist if item % 2 == 1]\n",
      "evens = [item for item in alist if item % 2 == 0]\n",
      "\n",
      "{'odds': odds, 'evens': evens}"
     ],
     "language": "python",
     "metadata": {},
     "outputs": [
      {
       "metadata": {},
       "output_type": "pyout",
       "prompt_number": 5,
       "text": [
        "{'evens': [0, 2, 4, 6, 8], 'odds': [1, 3, 5, 7, 9]}"
       ]
      }
     ],
     "prompt_number": 5
    },
    {
     "cell_type": "markdown",
     "metadata": {},
     "source": [
      "A similar operator exists in the semi-colon family of languages.\n",
      "\n",
      "    b = a < 5 ? 10 : 5;      // C/C++        "
     ]
    },
    {
     "cell_type": "code",
     "collapsed": false,
     "input": [],
     "language": "python",
     "metadata": {},
     "outputs": []
    }
   ],
   "metadata": {}
  }
 ]
}